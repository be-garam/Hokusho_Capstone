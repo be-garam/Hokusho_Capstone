{
 "cells": [
  {
   "cell_type": "markdown",
   "metadata": {},
   "source": [
    "# 로케이션 할당\n",
    "- input data는 /input folder에 넣어주세요. \n",
    "- 결과물들은 각 단계마다 /output folder에서 보실 수 있습니다.\n",
    "- location_assignment.py 폴더와 같은 경로에서 사용하셔야 합니다. \n",
    "\n",
    "### 작업 순서 설명\n",
    "\n",
    "> (선택)으로 표시되어 있는 부분은 진행하지 않으셔도 됩니다! 상황에 따라 필요하시다면 진행해주시면 됩니다!\n",
    "\n",
    "0. **모듈 호출**\n",
    "1. **column 값 확인**\n",
    "2. 제거 ~~**박스 필터링**~~\n",
    "3. **랭크 필터링** (선택)\n",
    "4. **plt 분리** (선택)\n",
    "5. **zone 할당**"
   ]
  },
  {
   "cell_type": "markdown",
   "metadata": {},
   "source": [
    "### 0. 모듈 호출 및 데이터 저장\n",
    "- 코드를 돌리기 위해 필요한 내용을 호출합니다.\n",
    "    - 모든 실행은 `shift` + `enter`나 재생 버튼을 눌러주시면됩니다.\n",
    "- 작업하고자 하시는 데이터 저장은 로케이션 할당 폴터의 `input` 폴더에 진행해주세요\n",
    "    - path 부분에 파일명을 작성해주시면 됩니다.\n",
    "    - raw data는 엑셀에서 csv로 추출해서 넣어주시는게 제일 좋습니다."
   ]
  },
  {
   "cell_type": "code",
   "execution_count": 1,
   "metadata": {},
   "outputs": [],
   "source": [
    "from location_assignment import *\n",
    "import pandas as pd\n",
    "import numpy as np\n",
    "import random\n",
    "import sys\n",
    "import os\n",
    "import openpyxl\n",
    "import warnings\n",
    "warnings.filterwarnings(\"ignore\")\n",
    "\n",
    "seed = 42\n",
    "random.seed(seed)"
   ]
  },
  {
   "cell_type": "markdown",
   "metadata": {},
   "source": [
    "input뒤에 파일명을 넣어주시면 됩니다.\n",
    "- 경로가 입력되지 않으면, input 파일의 예시 파일(LA_givendata_sample.csv)을 통해 작업합니다.\n",
    "- 또한, 공백이 없는 편이 안전합니다."
   ]
  },
  {
   "cell_type": "code",
   "execution_count": 2,
   "metadata": {},
   "outputs": [
    {
     "data": {
      "text/html": [
       "<div>\n",
       "<style scoped>\n",
       "    .dataframe tbody tr th:only-of-type {\n",
       "        vertical-align: middle;\n",
       "    }\n",
       "\n",
       "    .dataframe tbody tr th {\n",
       "        vertical-align: top;\n",
       "    }\n",
       "\n",
       "    .dataframe thead th {\n",
       "        text-align: right;\n",
       "    }\n",
       "</style>\n",
       "<table border=\"1\" class=\"dataframe\">\n",
       "  <thead>\n",
       "    <tr style=\"text-align: right;\">\n",
       "      <th></th>\n",
       "      <th>파일구분</th>\n",
       "      <th>주문유형1</th>\n",
       "      <th>주문유형2</th>\n",
       "      <th>월구분</th>\n",
       "      <th>배정일</th>\n",
       "      <th>배송일</th>\n",
       "      <th>창고</th>\n",
       "      <th>운송장번호</th>\n",
       "      <th>주문번호</th>\n",
       "      <th>new_주문번호</th>\n",
       "      <th>상품코드</th>\n",
       "      <th>Rank</th>\n",
       "      <th>온도대구분자</th>\n",
       "      <th>온도대</th>\n",
       "      <th>상품명</th>\n",
       "      <th>수량</th>\n",
       "      <th>엑셀상품명</th>\n",
       "      <th>엑셀옵션명</th>\n",
       "      <th>비고</th>\n",
       "    </tr>\n",
       "  </thead>\n",
       "  <tbody>\n",
       "    <tr>\n",
       "      <th>0</th>\n",
       "      <td>제트용인</td>\n",
       "      <td>합포</td>\n",
       "      <td>합포</td>\n",
       "      <td>3</td>\n",
       "      <td>20240303</td>\n",
       "      <td>20240303</td>\n",
       "      <td>상온창고</td>\n",
       "      <td>584152654855</td>\n",
       "      <td>2402291404376410</td>\n",
       "      <td>202403032402291404376410</td>\n",
       "      <td>P001421</td>\n",
       "      <td>A</td>\n",
       "      <td>NaN</td>\n",
       "      <td>상온</td>\n",
       "      <td>닥터퍼피365 프리미엄 STRONG</td>\n",
       "      <td>2</td>\n",
       "      <td>P001421</td>\n",
       "      <td>[닥터퍼피365] 프리미엄 반려동물 관절＆뼈 영양제 STRONG (2개단위 구매가능)</td>\n",
       "      <td>NaN</td>\n",
       "    </tr>\n",
       "    <tr>\n",
       "      <th>1</th>\n",
       "      <td>제트용인</td>\n",
       "      <td>합포</td>\n",
       "      <td>합포</td>\n",
       "      <td>3</td>\n",
       "      <td>20240303</td>\n",
       "      <td>20240303</td>\n",
       "      <td>상온창고</td>\n",
       "      <td>584152654855</td>\n",
       "      <td>2402291404376410</td>\n",
       "      <td>202403032402291404376410</td>\n",
       "      <td>E001396</td>\n",
       "      <td>C</td>\n",
       "      <td>NaN</td>\n",
       "      <td>상온</td>\n",
       "      <td>[휴홈] 건조기용 바닐라코튼향 섬유유연제(30매)</td>\n",
       "      <td>1</td>\n",
       "      <td>E001396</td>\n",
       "      <td>[타임특가] [휴홈] 개별포장 건조기용 섬유유연제 바닐라코튼/화이트머스크향(30매입...</td>\n",
       "      <td>NaN</td>\n",
       "    </tr>\n",
       "    <tr>\n",
       "      <th>2</th>\n",
       "      <td>제트용인</td>\n",
       "      <td>합포</td>\n",
       "      <td>합포</td>\n",
       "      <td>3</td>\n",
       "      <td>20240303</td>\n",
       "      <td>20240303</td>\n",
       "      <td>상온창고</td>\n",
       "      <td>584152654855</td>\n",
       "      <td>2402291404376410</td>\n",
       "      <td>202403032402291404376410</td>\n",
       "      <td>H001279</td>\n",
       "      <td>A</td>\n",
       "      <td>NaN</td>\n",
       "      <td>상온</td>\n",
       "      <td>김오곤 관절보MSM 1100mg*30정</td>\n",
       "      <td>2</td>\n",
       "      <td>H001279</td>\n",
       "      <td>[떠리데이] 김오곤 관절보MSM 건강기능식품 엠에스엠 100프로 1,100mg*30정</td>\n",
       "      <td>NaN</td>\n",
       "    </tr>\n",
       "    <tr>\n",
       "      <th>3</th>\n",
       "      <td>제트용인</td>\n",
       "      <td>합포</td>\n",
       "      <td>합포</td>\n",
       "      <td>3</td>\n",
       "      <td>20240303</td>\n",
       "      <td>20240303</td>\n",
       "      <td>상온창고</td>\n",
       "      <td>584152654855</td>\n",
       "      <td>2402291404376410</td>\n",
       "      <td>202403032402291404376410</td>\n",
       "      <td>C012354</td>\n",
       "      <td>B</td>\n",
       "      <td>NaN</td>\n",
       "      <td>상온</td>\n",
       "      <td>[트루비] 헬프미 모이스쳐 앰플 30ml</td>\n",
       "      <td>1</td>\n",
       "      <td>PTA240131147001S02P021</td>\n",
       "      <td>[트루비] 헬프미 앰플 30ml 3종 택1 ＋ 사은품(샘플)증정/선택 : 모이스쳐 앰플</td>\n",
       "      <td>NaN</td>\n",
       "    </tr>\n",
       "    <tr>\n",
       "      <th>4</th>\n",
       "      <td>제트용인</td>\n",
       "      <td>합포</td>\n",
       "      <td>합포</td>\n",
       "      <td>3</td>\n",
       "      <td>20240303</td>\n",
       "      <td>20240303</td>\n",
       "      <td>상온창고</td>\n",
       "      <td>584152654855</td>\n",
       "      <td>2402291404376410</td>\n",
       "      <td>202403032402291404376410</td>\n",
       "      <td>C012360</td>\n",
       "      <td>A</td>\n",
       "      <td>NaN</td>\n",
       "      <td>상온</td>\n",
       "      <td>[트루비] 헬프미 앰플 샘플</td>\n",
       "      <td>20</td>\n",
       "      <td>PTA240131147003S02P021</td>\n",
       "      <td>[트루비] 헬프미 앰플 30ml 3종 택1 ＋ 사은품(샘플)증정/선택 : 링클케어 앰플</td>\n",
       "      <td>NaN</td>\n",
       "    </tr>\n",
       "  </tbody>\n",
       "</table>\n",
       "</div>"
      ],
      "text/plain": [
       "   파일구분 주문유형1 주문유형2  월구분       배정일       배송일    창고         운송장번호  \\\n",
       "0  제트용인    합포    합포    3  20240303  20240303  상온창고  584152654855   \n",
       "1  제트용인    합포    합포    3  20240303  20240303  상온창고  584152654855   \n",
       "2  제트용인    합포    합포    3  20240303  20240303  상온창고  584152654855   \n",
       "3  제트용인    합포    합포    3  20240303  20240303  상온창고  584152654855   \n",
       "4  제트용인    합포    합포    3  20240303  20240303  상온창고  584152654855   \n",
       "\n",
       "               주문번호                  new_주문번호     상품코드 Rank  온도대구분자 온도대  \\\n",
       "0  2402291404376410  202403032402291404376410  P001421    A     NaN  상온   \n",
       "1  2402291404376410  202403032402291404376410  E001396    C     NaN  상온   \n",
       "2  2402291404376410  202403032402291404376410  H001279    A     NaN  상온   \n",
       "3  2402291404376410  202403032402291404376410  C012354    B     NaN  상온   \n",
       "4  2402291404376410  202403032402291404376410  C012360    A     NaN  상온   \n",
       "\n",
       "                           상품명  수량                   엑셀상품명  \\\n",
       "0          닥터퍼피365 프리미엄 STRONG   2                 P001421   \n",
       "1  [휴홈] 건조기용 바닐라코튼향 섬유유연제(30매)   1                 E001396   \n",
       "2        김오곤 관절보MSM 1100mg*30정   2                 H001279   \n",
       "3       [트루비] 헬프미 모이스쳐 앰플 30ml   1  PTA240131147001S02P021   \n",
       "4              [트루비] 헬프미 앰플 샘플  20  PTA240131147003S02P021   \n",
       "\n",
       "                                               엑셀옵션명  비고  \n",
       "0    [닥터퍼피365] 프리미엄 반려동물 관절＆뼈 영양제 STRONG (2개단위 구매가능) NaN  \n",
       "1  [타임특가] [휴홈] 개별포장 건조기용 섬유유연제 바닐라코튼/화이트머스크향(30매입... NaN  \n",
       "2    [떠리데이] 김오곤 관절보MSM 건강기능식품 엠에스엠 100프로 1,100mg*30정 NaN  \n",
       "3   [트루비] 헬프미 앰플 30ml 3종 택1 ＋ 사은품(샘플)증정/선택 : 모이스쳐 앰플 NaN  \n",
       "4   [트루비] 헬프미 앰플 30ml 3종 택1 ＋ 사은품(샘플)증정/선택 : 링클케어 앰플 NaN  "
      ]
     },
     "execution_count": 2,
     "metadata": {},
     "output_type": "execute_result"
    }
   ],
   "source": [
    "path = \"input/zet.csv\"\n",
    "raw_df = check_df(path)\n",
    "pre_df = raw_df.copy()\n",
    "pre_df.head()"
   ]
  },
  {
   "cell_type": "markdown",
   "metadata": {},
   "source": [
    "### 1. column 값 확인\n",
    "- 아래의 코드를 돌리면, 시스템에서 인식한 column 값이 나오게 됩니다.\n",
    "    - 임의로 내용을 입력해도 좋지만, 아래 코드의 결과물을 복사, 붙여넣기해서 진행하시는게 좋습니다."
   ]
  },
  {
   "cell_type": "code",
   "execution_count": 3,
   "metadata": {},
   "outputs": [
    {
     "data": {
      "text/plain": [
       "Index(['파일구분', '주문유형1', '주문유형2', '월구분', '배정일', '배송일', '창고', '운송장번호', '주문번호',\n",
       "       'new_주문번호', '상품코드', 'Rank', '온도대구분자', '온도대', '상품명', '수량', '엑셀상품명',\n",
       "       '엑셀옵션명', '비고'],\n",
       "      dtype='object')"
      ]
     },
     "execution_count": 3,
     "metadata": {},
     "output_type": "execute_result"
    }
   ],
   "source": [
    "# pre_df's columns\n",
    "pre_df.columns"
   ]
  },
  {
   "cell_type": "markdown",
   "metadata": {},
   "source": [
    "공통 선택 부분입니다.(해당 부분은 무조건 있어야 하는 데이터입니다.)\n",
    "- 하단의 assert ~ 부분은 column이 있는지 체크하는 코드입니다.\n",
    "    - 아무런 결과값이 없다면 아래로 넘어가시면 됩니다.\n",
    "    - AssertionError가 발생했다면, 화살표가 표시된 column 값에 오타가 있는 상황입니다. 수정해주세요\n",
    "- 하단의 각 값은 아래와 같습니다.\n",
    "    - zone_num: 존의 개수입니다.\n",
    "    - trial_row: 크기순 정렬될 상품의 row 수입니다. 예를 들어 zone_num이 10이고, 3이라면 30개가 크기순으로 정렬되고, 이후는 랜덤으로 배치합니다.    \n",
    "        - 유의미하게 큰 데이터를 생각해 넣어주시는게 좋습니다.\n",
    "    - error_percentage: 오차범위에 대한 상,하한입니다. 해당하는 비율만큼 오차를 허용합니다.\n",
    "        - % 변경을 위해서는 100을 곱해서 생각해주세요\n",
    "    - upper_limit: zone 하나에 들어갈 수 있는 최대 품목수입니다.\n",
    "        - zone과 함께 계산했을 때, 불가능한 값이 나오면 5. zone 할당에서 알려줍니다.\n",
    "        - 이 경우, upper_limit을 늘리거나 zone_num을 늘려주시면 됩니다."
   ]
  },
  {
   "cell_type": "code",
   "execution_count": 4,
   "metadata": {},
   "outputs": [],
   "source": [
    "order_col_name = \"주문번호\" #주문번호\n",
    "assert order_col_name in pre_df.columns\n",
    "\n",
    "sku_col_name = \"상품코드\" # \"Sku Code\" #품목코드\n",
    "assert sku_col_name in pre_df.columns\n",
    "\n",
    "pcs_col_name = \"수량\" #작업량\n",
    "assert pcs_col_name in pre_df.columns\n",
    "\n",
    "width = 80\n",
    "zone_num = 5\n",
    "trial_row = 3\n",
    "error_percentage = 0.05\n",
    "\n",
    "upper_limmit = 24"
   ]
  },
  {
   "cell_type": "markdown",
   "metadata": {},
   "source": [
    "Rank 설정을 위해 필요한 내용입니다.\n",
    "- 한개만 진행시: [\"A\"]\n",
    "- 여러개 진행시: [\"A\", \"B\"]"
   ]
  },
  {
   "cell_type": "code",
   "execution_count": 5,
   "metadata": {},
   "outputs": [],
   "source": [
    "rank_col_name = \"Rank\"\n",
    "assert rank_col_name in pre_df.columns\n",
    "\n",
    "filter_rank = [\"A\"]\n",
    "assert pre_df[rank_col_name].isin(filter_rank).any(), f\"No rows with {rank_col_name} in {filter_rank}\""
   ]
  },
  {
   "cell_type": "markdown",
   "metadata": {},
   "source": [
    "### 2. Rank Filtering(선택)\n",
    "- 위에서 설정한 rank 별로 필터링합니다.\n",
    "    - 해당 부분을 돌린 후에는 Rank에 대해 필터링된 파일을 기준으로 작업하게 됩니다. \n",
    "    - 필터링된 값은 `_rank_filtered`라는 이름으로 output folder에 저장됩니다.\n",
    "- 없는 상태에서 돌리게 되면 에러가 나옵니다."
   ]
  },
  {
   "cell_type": "code",
   "execution_count": 6,
   "metadata": {},
   "outputs": [],
   "source": [
    "file_name = path.split('/')[-1].split('.')[0] + '_rank_filtered.csv'\n",
    "rank_filtered_df = pre_df[pre_df[rank_col_name].isin(filter_rank)]\n",
    "rank_filtered_df.to_csv('output/' + file_name, index=False)\n",
    "pre_df = rank_filtered_df.copy()"
   ]
  },
  {
   "cell_type": "markdown",
   "metadata": {},
   "source": [
    "### 4. PLT Filtering\n",
    "\n",
    "> 만약 PLT로 이미 나누어져 있다면, 아래 plt_cut을 100이상으로 설정하시면 됩니다.\n",
    "\n",
    "두가지 방법이 존재합니다.\n",
    "1. 우선 아래에서 정한 PLT 범위에 따라서 시스템에서 자동으로 filtering을 해줍니다.\n",
    "    - 이때, 30이라면 zone 별로 할당된 작업량의 30%이상에 대해서 필터링한다는 의미입니다.\n",
    "        - 예시로 10개의 존으로 나눈후, 30이라면 전체의 3%이상의 작업량이 할당되어 있기 때문에, PLT로 빼는 것이 이후 작업량 균등할당을 위해서도 좋기 때문에 해당하는 부분으로 진행되어 있습니다.\n",
    "    - 이는 `_PLT_filtered`라는 이름으로 output folder에 저장됩니다.\n",
    "2. csv 파일로 가셔서, 수동으로 설정하실 PLT 그룹을 설정한뒤 하단의 부분을 실행시켜주시면, 수동으로 설정한 데이터를 불러와서 작업하게 됩니다.\n",
    "    - 꼭 \"PLT\"로 저장해주세요\n",
    "    - 단, 시스템에서 돌아가는 PATH 값을 인식하고 있기 때문에, 해당하는 페이지를 끄시게 되면 다 다시 작업하셔야되다보니, 주의해주세요\n",
    "\n",
    "- 주요) PLT filtering은 pcs수를 기준으로 처리하지만, zone 분할을 sku 수를 기준으로 처리합니다."
   ]
  },
  {
   "cell_type": "code",
   "execution_count": 7,
   "metadata": {},
   "outputs": [],
   "source": [
    "plt_cut = 100"
   ]
  },
  {
   "cell_type": "code",
   "execution_count": 8,
   "metadata": {},
   "outputs": [],
   "source": [
    "df_grouped = group_order_pcs(pre_df, pcs_col_name, sku_col_name)\n",
    "df_grouped, df_plt, total_psc, total_order, length = cutting_plt(df_grouped, sku_col_name, plt_cut, zone_num)\n",
    "df_grouped['zone 할당'] = [0 for _ in range(len(df_grouped))]\n",
    "# concat df_plt and df_grouped\n",
    "df_grouped = pd.concat([df_grouped, df_plt], axis=0)\n",
    "df_grouped['zone 할당'] = df_grouped['zone 할당'].astype(str)\n",
    "file_name = path.split('/')[-1].split('.')[0] + '_plt_filtered.csv'\n",
    "df_grouped.to_csv('output/' + file_name, index=False)"
   ]
  },
  {
   "cell_type": "markdown",
   "metadata": {},
   "source": [
    "### 5. Zone 할당\n",
    "- 위에서 저장된 `output/{filename}_plt_filtered.csv`를 불러오기를 우선시도하고 진행합니다."
   ]
  },
  {
   "cell_type": "code",
   "execution_count": 9,
   "metadata": {},
   "outputs": [],
   "source": [
    "file_name = path.split('/')[-1].split('.')[0] + '_plt_filtered.csv'\n",
    "pre_zone_df = pd.read_csv('output/' + file_name)\n",
    "if \"PLT\" not in pre_zone_df['zone 할당'].unique():\n",
    "    pre_zone_df['zone 할당'] = pre_zone_df['zone 할당'].astype(int).astype(str)\n",
    "df_grouped = pre_zone_df[pre_zone_df['zone 할당'] == '0']\n",
    "df_grouped.drop(['zone 할당'], axis=1, inplace=True)\n",
    "df_plt = pre_zone_df[pre_zone_df['zone 할당'] == \"PLT\"]"
   ]
  },
  {
   "cell_type": "code",
   "execution_count": 10,
   "metadata": {},
   "outputs": [
    {
     "name": "stdout",
     "output_type": "stream",
     "text": [
      "length of df_grouped: 112\n",
      "length of df_plt: 0\n"
     ]
    }
   ],
   "source": [
    "print(f\"length of df_grouped: {len(df_grouped)}\")\n",
    "print(f\"length of df_plt: {len(df_plt)}\")"
   ]
  },
  {
   "cell_type": "markdown",
   "metadata": {},
   "source": [
    "- upper_limit: zone 하나에 들어갈 수 있는 최대 품목수입니다.(이때 plt filtering을 했다면, plt filtering된 품목은 빠진 상태입니다.)\n",
    "    - zone과 함께 계산했을 때, 불가능한 값이 나오면 아래에서 알려줍니다.\n",
    "    - 이 경우, upper_limit을 늘리거나 zone_num을 늘려주시면 됩니다.\n",
    "- 별 이상이 없다면 그냥 진행하셔도 좋습니다."
   ]
  },
  {
   "cell_type": "code",
   "execution_count": 11,
   "metadata": {},
   "outputs": [
    {
     "name": "stdout",
     "output_type": "stream",
     "text": [
      "length/zone_num: 22.4 < 24\n",
      "You can proceed\n"
     ]
    }
   ],
   "source": [
    "if int(length/zone_num) > upper_limmit:\n",
    "    print(f\"length/zone_num: {length/zone_num} > {upper_limmit}\")\n",
    "    print(\"Please increase zone_num or decrease plt_cut\")\n",
    "else:\n",
    "    print(f\"length/zone_num: {length/zone_num} < {upper_limmit}\")\n",
    "    print(\"You can proceed\")"
   ]
  },
  {
   "cell_type": "code",
   "execution_count": 13,
   "metadata": {},
   "outputs": [
    {
     "name": "stdout",
     "output_type": "stream",
     "text": [
      "standard_pcs: 33539.6, standard_order: 11376.8, standard_sku_count: 22\n",
      "1's exisiting order: 3425, exisiting pcs: 11349\n",
      "upper_limit_order: 8520.64, lower_limit_order: 7382.959999999999\n",
      "upper_limit_sku: 21, lower_limit_sku: 17\n",
      "selected_indices' sum:  7803\n",
      "2's exisiting order: 3595, exisiting pcs: 13220\n",
      "upper_limit_order: 8350.64, lower_limit_order: 7212.959999999999\n",
      "upper_limit_sku: 21, lower_limit_sku: 17\n",
      "selected_indices' sum:  7407\n",
      "3's exisiting order: 3977, exisiting pcs: 7085\n",
      "upper_limit_order: 7968.639999999999, lower_limit_order: 6830.959999999999\n",
      "upper_limit_sku: 21, lower_limit_sku: 17\n",
      "selected_indices' sum:  7261\n",
      "4's exisiting order: 5007, exisiting pcs: 9968\n",
      "upper_limit_order: 6938.639999999999, lower_limit_order: 5800.959999999999\n",
      "upper_limit_sku: 21, lower_limit_sku: 17\n",
      "selected_indices' sum:  6653\n",
      "5's exisiting order: 5753, exisiting pcs: 12259\n",
      "upper_limit_order: 6192.639999999999, lower_limit_order: 5054.959999999999\n",
      "upper_limit_sku: 21, lower_limit_sku: 17\n",
      "selected_indices' sum:  6003\n",
      "1 24 19.47 19.74\n",
      "2 24 25.84 19.34\n",
      "3 21 18.84 19.76\n",
      "4 23 17.97 20.5\n",
      "5 20 17.87 20.67\n"
     ]
    }
   ],
   "source": [
    "df_grouped = zone_assignment(df_grouped, sku_col_name, zone_num, trial_row, error_percentage, total_psc, total_order, length, upper_limmit)\n",
    "\n",
    "zone_df = pd.concat([df_plt, df_grouped], ignore_index=True)\n",
    "file_name = path.split('/')[-1].split('.')[0] + '_grouped_zone.csv'\n",
    "zone_df.to_csv('output/' + file_name, index=False)\n",
    "\n",
    "final_df = merge_zone(pre_df, zone_df, sku_col_name)\n",
    "if \"index\" in final_df.columns:\n",
    "    final_df.drop(columns=[\"index\"], inplace=True)\n",
    "file_name = path.split('/')[-1].split('.')[0] + '_final.csv'\n",
    "final_df.to_csv('output/' + file_name, index=False)"
   ]
  },
  {
   "cell_type": "markdown",
   "metadata": {},
   "source": [
    "### 6. 엑셀로 추출\n",
    "- 최종적으로 엑셀로 추출하는 함수입니다."
   ]
  },
  {
   "cell_type": "code",
   "execution_count": 15,
   "metadata": {},
   "outputs": [
    {
     "name": "stdout",
     "output_type": "stream",
     "text": [
      "grouped_zone.csv is successfully read.\n"
     ]
    }
   ],
   "source": [
    "# try to read zone_grouped.csv\n",
    "file_name = path.split('/')[-1].split('.')[0] + '_grouped_zone.csv'\n",
    "try:\n",
    "    f_zone_grouped_df = pd.read_csv('output/' + file_name)\n",
    "    print(\"grouped_zone.csv is successfully read.\")\n",
    "except:\n",
    "    f_zone_grouped_df = None\n",
    "    print(\"grouped_zone.csv is not found.\")"
   ]
  },
  {
   "cell_type": "code",
   "execution_count": 16,
   "metadata": {},
   "outputs": [],
   "source": [
    "base_dir = 'output/'\n",
    "file_name = path.split('/')[-1].split('.')[0] + '_LA.xlsx'\n",
    "xlxs_dir = os.path.join(base_dir, file_name)\n",
    "\n",
    "with pd.ExcelWriter(xlxs_dir) as writer:\n",
    "    final_df.to_excel(writer, sheet_name = '요청자료')\n",
    "    if f_zone_grouped_df is not None:\n",
    "        f_zone_grouped_df.to_excel(writer, sheet_name = '품목_배치zone할당')"
   ]
  }
 ],
 "metadata": {
  "kernelspec": {
   "display_name": "hokusho",
   "language": "python",
   "name": "hokusho"
  },
  "language_info": {
   "codemirror_mode": {
    "name": "ipython",
    "version": 3
   },
   "file_extension": ".py",
   "mimetype": "text/x-python",
   "name": "python",
   "nbconvert_exporter": "python",
   "pygments_lexer": "ipython3",
   "version": "3.12.2"
  }
 },
 "nbformat": 4,
 "nbformat_minor": 2
}
