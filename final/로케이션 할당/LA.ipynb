{
 "cells": [
  {
   "cell_type": "markdown",
   "metadata": {},
   "source": [
    "# 로케이션 할당\n",
    "\n",
    "### 작업 순서 설명\n",
    "\n",
    "> (선택)으로 표시되어 있는 부분은 진행하지 않으셔도 됩니다! 상황에 따라 필요하시다면 진행해주시면 됩니다!\n",
    "\n",
    "0. **모듈 호출**\n",
    "1. **column 값 확인**\n",
    "2. **박스 필터링** (선택)\n",
    "3. **랭크 필터링** (선택)\n",
    "4. **plt 분리** (선택)\n",
    "5. **zone 할당**"
   ]
  },
  {
   "cell_type": "markdown",
   "metadata": {},
   "source": [
    "### 0. 모듈 호출 및 데이터 저장\n",
    "- 코드를 돌리기 위해 필요한 내용을 호출합니다.\n",
    "    - 모든 실행은 `shift` + `enter`나 재생 버튼을 눌러주시면됩니다.\n",
    "- 작업하고자 하시는 데이터 저장은 로케이션 할당 폴터의 `input` 폴더에 진행해주세요\n",
    "    - path 부분에 파일명을 작성해주시면 됩니다.\n",
    "    - raw data는 엑셀에서 csv로 추출해서 넣어주시는게 제일 좋습니다."
   ]
  },
  {
   "cell_type": "code",
   "execution_count": 1,
   "metadata": {},
   "outputs": [],
   "source": [
    "from location_assignment import *\n",
    "import pandas as pd\n",
    "import numpy as np\n",
    "import random\n",
    "import sys\n",
    "import os\n",
    "import openpyxl\n",
    "import warnings\n",
    "warnings.filterwarnings(\"ignore\")\n",
    "\n",
    "seed = 42\n",
    "random.seed(seed)"
   ]
  },
  {
   "cell_type": "markdown",
   "metadata": {},
   "source": [
    "input뒤에 파일명을 넣어주시면 됩니다.\n",
    "- 경로가 입력되지 않으면, input 파일의 예시 파일(LA_givendata_sample.csv)을 통해 작업합니다.\n",
    "- 또한, 공백이 없는 편이 안전합니다."
   ]
  },
  {
   "cell_type": "code",
   "execution_count": 2,
   "metadata": {},
   "outputs": [
    {
     "data": {
      "text/html": [
       "<div>\n",
       "<style scoped>\n",
       "    .dataframe tbody tr th:only-of-type {\n",
       "        vertical-align: middle;\n",
       "    }\n",
       "\n",
       "    .dataframe tbody tr th {\n",
       "        vertical-align: top;\n",
       "    }\n",
       "\n",
       "    .dataframe thead th {\n",
       "        text-align: right;\n",
       "    }\n",
       "</style>\n",
       "<table border=\"1\" class=\"dataframe\">\n",
       "  <thead>\n",
       "    <tr style=\"text-align: right;\">\n",
       "      <th></th>\n",
       "      <th>출하일자</th>\n",
       "      <th>주문Code1</th>\n",
       "      <th>Sku Code</th>\n",
       "      <th>상품명</th>\n",
       "      <th>박스당PCS</th>\n",
       "      <th>총수량</th>\n",
       "      <th>가로(mm)</th>\n",
       "      <th>세로(mm)</th>\n",
       "      <th>높이(mm)</th>\n",
       "      <th>오더번호</th>\n",
       "      <th>pcs출하</th>\n",
       "    </tr>\n",
       "  </thead>\n",
       "  <tbody>\n",
       "    <tr>\n",
       "      <th>0</th>\n",
       "      <td>2023.03.07</td>\n",
       "      <td>B2C(택배)</td>\n",
       "      <td>W00301</td>\n",
       "      <td>艾多美 洗面乳 1瓶</td>\n",
       "      <td>40</td>\n",
       "      <td>4</td>\n",
       "      <td>143</td>\n",
       "      <td>96</td>\n",
       "      <td>132</td>\n",
       "      <td>723030501912</td>\n",
       "      <td>4</td>\n",
       "    </tr>\n",
       "    <tr>\n",
       "      <th>1</th>\n",
       "      <td>2023.03.07</td>\n",
       "      <td>B2C(택배)</td>\n",
       "      <td>W00531</td>\n",
       "      <td>艾多美 愛丹 1瓶</td>\n",
       "      <td>54</td>\n",
       "      <td>5</td>\n",
       "      <td>143</td>\n",
       "      <td>96</td>\n",
       "      <td>132</td>\n",
       "      <td>723030501912</td>\n",
       "      <td>5</td>\n",
       "    </tr>\n",
       "    <tr>\n",
       "      <th>2</th>\n",
       "      <td>2023.03.07</td>\n",
       "      <td>B2C(택배)</td>\n",
       "      <td>W00261</td>\n",
       "      <td>艾多美 BB霜 1瓶</td>\n",
       "      <td>91</td>\n",
       "      <td>2</td>\n",
       "      <td>143</td>\n",
       "      <td>96</td>\n",
       "      <td>132</td>\n",
       "      <td>723030503159</td>\n",
       "      <td>2</td>\n",
       "    </tr>\n",
       "    <tr>\n",
       "      <th>3</th>\n",
       "      <td>2023.03.07</td>\n",
       "      <td>B2C(택배)</td>\n",
       "      <td>W00276</td>\n",
       "      <td>艾多美 凝萃煥膚防曬乳</td>\n",
       "      <td>70</td>\n",
       "      <td>4</td>\n",
       "      <td>48</td>\n",
       "      <td>23</td>\n",
       "      <td>138</td>\n",
       "      <td>723030503159</td>\n",
       "      <td>4</td>\n",
       "    </tr>\n",
       "    <tr>\n",
       "      <th>4</th>\n",
       "      <td>2023.03.07</td>\n",
       "      <td>B2C(택배)</td>\n",
       "      <td>W00501</td>\n",
       "      <td>艾多美 牙膏200g(5條)*1組</td>\n",
       "      <td>10</td>\n",
       "      <td>3</td>\n",
       "      <td>143</td>\n",
       "      <td>96</td>\n",
       "      <td>132</td>\n",
       "      <td>723030503159</td>\n",
       "      <td>3</td>\n",
       "    </tr>\n",
       "  </tbody>\n",
       "</table>\n",
       "</div>"
      ],
      "text/plain": [
       "         출하일자  주문Code1 Sku Code                상품명  박스당PCS  총수량  가로(mm)  \\\n",
       "0  2023.03.07  B2C(택배)   W00301         艾多美 洗面乳 1瓶      40    4     143   \n",
       "1  2023.03.07  B2C(택배)   W00531          艾多美 愛丹 1瓶      54    5     143   \n",
       "2  2023.03.07  B2C(택배)   W00261         艾多美 BB霜 1瓶      91    2     143   \n",
       "3  2023.03.07  B2C(택배)   W00276        艾多美 凝萃煥膚防曬乳      70    4      48   \n",
       "4  2023.03.07  B2C(택배)   W00501  艾多美 牙膏200g(5條)*1組      10    3     143   \n",
       "\n",
       "   세로(mm)  높이(mm)          오더번호  pcs출하  \n",
       "0      96     132  723030501912      4  \n",
       "1      96     132  723030501912      5  \n",
       "2      96     132  723030503159      2  \n",
       "3      23     138  723030503159      4  \n",
       "4      96     132  723030503159      3  "
      ]
     },
     "execution_count": 2,
     "metadata": {},
     "output_type": "execute_result"
    }
   ],
   "source": [
    "path = \"input/LA_givendata_sample.csv\"\n",
    "raw_df = check_df(path)\n",
    "pre_df = raw_df.copy()\n",
    "pre_df.head()"
   ]
  },
  {
   "cell_type": "markdown",
   "metadata": {},
   "source": [
    "### 1. column 값 확인\n",
    "- 아래의 코드를 돌리면, 시스템에서 인식한 column 값이 나오게 됩니다.\n",
    "    - 임의로 내용을 입력해도 좋지만, 아래 코드의 결과물을 복사, 붙여넣기해서 진행하시는게 좋습니다."
   ]
  },
  {
   "cell_type": "code",
   "execution_count": 3,
   "metadata": {},
   "outputs": [
    {
     "data": {
      "text/plain": [
       "Index(['출하일자', '주문Code1', 'Sku Code', '상품명', '박스당PCS', '총수량', '가로(mm)',\n",
       "       '세로(mm)', '높이(mm)', '오더번호', 'pcs출하'],\n",
       "      dtype='object')"
      ]
     },
     "execution_count": 3,
     "metadata": {},
     "output_type": "execute_result"
    }
   ],
   "source": [
    "# pre_df's columns\n",
    "pre_df.columns"
   ]
  },
  {
   "cell_type": "markdown",
   "metadata": {},
   "source": [
    "공통 선택 부분입니다.(해당 부분은 무조건 있어야 하는 데이터입니다.)\n",
    "- 하단의 assert ~ 부분은 column이 있는지 체크하는 코드입니다.\n",
    "    - 아무런 결과값이 없다면 아래로 넘어가시면 됩니다.\n",
    "    - AssertionError가 발생했다면, 화살표가 표시된 column 값에 오타가 있는 상황입니다. 수정해주세요\n",
    "- 하단의 각 값은 아래와 같습니다.\n",
    "    - zone_num: 존의 개수입니다.\n",
    "    - trial_row: 크기순 정렬될 상품의 row 수입니다. 예를 들어 zone_num이 10이고, 3이라면 30개가 크기순으로 정렬되고, 이후는 랜덤으로 배치합니다.    \n",
    "        - 유의미하게 큰 데이터를 생각해 넣어주시는게 좋습니다.\n",
    "    - error_percentage: 오차범위에 대한 상,하한입니다. 해당하는 비율만큼 오차를 허용합니다.\n",
    "        - % 변경을 위해서는 100을 곱해서 생각해주세요"
   ]
  },
  {
   "cell_type": "code",
   "execution_count": 4,
   "metadata": {},
   "outputs": [],
   "source": [
    "order_col_name = \"오더번호\" #주문번호\n",
    "assert order_col_name in pre_df.columns\n",
    "\n",
    "sku_col_name = \"Sku Code\" #품목코드\n",
    "assert sku_col_name in pre_df.columns\n",
    "\n",
    "pcs_col_name = \"pcs출하\" #작업량\n",
    "assert pcs_col_name in pre_df.columns\n",
    "\n",
    "width = 80\n",
    "zone_num = 10\n",
    "trial_row = 3\n",
    "error_percentage = 0.05"
   ]
  },
  {
   "cell_type": "markdown",
   "metadata": {},
   "source": [
    "2번의 박스 필터링에 필요한 내용입니다. (선택 사항입니다)\n",
    "- 하단은 기준에 대한 부분을 설정합니다."
   ]
  },
  {
   "cell_type": "code",
   "execution_count": 5,
   "metadata": {},
   "outputs": [],
   "source": [
    "pre_b2c_col_name =  \"주문Code1\" \n",
    "assert pre_b2c_col_name in pre_df.columns\n",
    "\n",
    "width_col_name = \"가로(mm)\"\n",
    "assert width_col_name in pre_df.columns\n",
    "\n",
    "height_col_name = \"세로(mm)\"\n",
    "assert height_col_name in pre_df.columns\n",
    "\n",
    "depth_col_name = \"높이(mm)\"\n",
    "assert depth_col_name in pre_df.columns\n",
    "\n",
    "b2b_min = 55.80\n",
    "b2c_min = 53.41"
   ]
  },
  {
   "cell_type": "markdown",
   "metadata": {},
   "source": [
    "3번의 rank 설정을 위해 필요한 내용입니다.\n",
    "- 한개만 진행시: [\"A\"]\n",
    "- 여러개 진행시: [\"A\", \"B\"]"
   ]
  },
  {
   "cell_type": "code",
   "execution_count": 6,
   "metadata": {},
   "outputs": [
    {
     "ename": "AssertionError",
     "evalue": "",
     "output_type": "error",
     "traceback": [
      "\u001b[0;31m---------------------------------------------------------------------------\u001b[0m",
      "\u001b[0;31mAssertionError\u001b[0m                            Traceback (most recent call last)",
      "Cell \u001b[0;32mIn[6], line 2\u001b[0m\n\u001b[1;32m      1\u001b[0m rank_col_name \u001b[38;5;241m=\u001b[39m \u001b[38;5;124m\"\u001b[39m\u001b[38;5;124mRank\u001b[39m\u001b[38;5;124m\"\u001b[39m\n\u001b[0;32m----> 2\u001b[0m \u001b[38;5;28;01massert\u001b[39;00m rank_col_name \u001b[38;5;129;01min\u001b[39;00m pre_df\u001b[38;5;241m.\u001b[39mcolumns\n\u001b[1;32m      4\u001b[0m filter_rank \u001b[38;5;241m=\u001b[39m [\u001b[38;5;124m\"\u001b[39m\u001b[38;5;124mA\u001b[39m\u001b[38;5;124m\"\u001b[39m]\n\u001b[1;32m      5\u001b[0m \u001b[38;5;28;01massert\u001b[39;00m pre_df[rank_col_name]\u001b[38;5;241m.\u001b[39misin(filter_rank)\u001b[38;5;241m.\u001b[39mall()\n",
      "\u001b[0;31mAssertionError\u001b[0m: "
     ]
    }
   ],
   "source": [
    "rank_col_name = \"Rank\"\n",
    "assert rank_col_name in pre_df.columns\n",
    "\n",
    "filter_rank = [\"A\"]\n",
    "assert pre_df[rank_col_name].isin(filter_rank).all()"
   ]
  },
  {
   "cell_type": "markdown",
   "metadata": {},
   "source": [
    "### 2. 박스 필터링\n",
    "- 위에서 설정한 박스 상한을 넘은 주문은 2개로 분리를 해줍니다. \n",
    "    - 결과물은 2개가 존재합니다.\n",
    "        - 각 주문별로 계산된 값은 output의 `_box_grouped`라는 이름으로 저장됩니다.\n",
    "        - raw data에 추가된 버전은 output의 `_box_filtered`라는 이름으로 저장됩니다."
   ]
  },
  {
   "cell_type": "code",
   "execution_count": 6,
   "metadata": {},
   "outputs": [
    {
     "name": "stdout",
     "output_type": "stream",
     "text": [
      "=================================B2C구분 업데이트 완료==================================\n",
      "==================================단위부피 업데이트 완료==================================\n",
      "=================================수량의 부피 업데이트 완료=================================\n",
      "=================================오더의 박스수 정하기 완료=================================\n"
     ]
    }
   ],
   "source": [
    "b2c_volume_df = update_b2c_volume(pre_df, width, pre_b2c_col_name, width_col_name, height_col_name, depth_col_name, pcs_col_name)\n",
    "b2c_grouped_df = classify_b2c(b2c_volume_df, width, order_col_name, sku_col_name)\n",
    "file_name = path.split('/')[-1].split('.')[0] + '_box_grouped.csv'\n",
    "b2c_grouped_df.to_csv('output/' + file_name, index=False)\n",
    "\n",
    "box_filtered_df = filtering_box(b2c_grouped_df, b2c_volume_df, width, order_col_name, b2b_min, b2c_min)\n",
    "\n",
    "file_name = path.split('/')[-1].split('.')[0] + '_box_filtered.csv'\n",
    "box_filtered_df.to_csv('output/' + file_name, index=False)\n",
    "pre_df = box_filtered_df.copy()"
   ]
  },
  {
   "cell_type": "markdown",
   "metadata": {},
   "source": [
    "### 3. Rank Filtering(선택)\n",
    "- 위에서 설정한 rank 별로 필터링합니다.\n",
    "    - 해당 부분을 돌린 후에는 Rank에 대해 필터링된 파일을 기준으로 작업하게 됩니다. \n",
    "    - 필터링된 값은 `_rank_filtered`라는 이름으로 output folder에 저장됩니다.\n",
    "- 없는 상태에서 돌리게 되면 에러가 나옵니다."
   ]
  },
  {
   "cell_type": "code",
   "execution_count": null,
   "metadata": {},
   "outputs": [],
   "source": [
    "file_name = path.split('/')[-1].split('.')[0] + '_rank_filtered.csv'\n",
    "rank_filtered_df = pre_df[pre_df[rank_col_name].isin(filter_rank)]\n",
    "rank_filtered_df.to_csv('output/' + file_name, index=False)\n",
    "pre_df = rank_filtered_df.copy()\n"
   ]
  },
  {
   "cell_type": "markdown",
   "metadata": {},
   "source": [
    "### 4. PLT Filtering(선택)\n",
    "두가지 방법이 존재합니다.\n",
    "1. 우선 아래에서 정한 PLT 범위에 따라서 시스템에서 자동으로 filtering을 해줍니다.\n",
    "    - 이때, 30이라면 zone 별로 할당된 작업량의 30%이상에 대해서 필터링한다는 의미입니다.\n",
    "        - 예시로 10개의 존으로 나눈후, 30이라면 전체의 3%이상의 작업량이 할당되어 있기 때문에, PLT로 빼는 것이 이후 작업량 균등할당을 위해서도 좋기 때문에 해당하는 부분으로 진행되어 있습니다.\n",
    "    - 이는 `_PLT_filtered`라는 이름으로 output folder에 저장됩니다.\n",
    "2. csv 파일로 가셔서, 수동으로 설정하실 PLT 그룹을 설정한뒤 하단의 부분을 실행시켜주시면, 수동으로 설정한 데이터를 불러와서 작업하게 됩니다.\n",
    "    - 꼭 \"PLT\"로 저장해주세요\n",
    "    - 단, 시스템에서 돌아가는 PATH 값을 인식하고 있기 때문에, 해당하는 페이지를 끄시게 되면 다 다시 작업하셔야되다보니, 주의해주세요\n"
   ]
  },
  {
   "cell_type": "code",
   "execution_count": 8,
   "metadata": {},
   "outputs": [],
   "source": [
    "plt_cut = 31.5"
   ]
  },
  {
   "cell_type": "code",
   "execution_count": 9,
   "metadata": {},
   "outputs": [],
   "source": [
    "df_grouped = group_order_pcs(pre_df, pcs_col_name, sku_col_name)\n",
    "df_grouped, df_plt, total_psc, total_order, length = cutting_plt(df_grouped, sku_col_name, plt_cut, zone_num)\n",
    "df_grouped['zone 할당'] = [0 for _ in range(len(df_grouped))]\n",
    "# concat df_plt and df_grouped\n",
    "df_grouped = pd.concat([df_grouped, df_plt], axis=0)\n",
    "file_name = path.split('/')[-1].split('.')[0] + '_plt_filtered.csv'\n",
    "df_grouped.to_csv('output/' + file_name, index=False)"
   ]
  },
  {
   "cell_type": "markdown",
   "metadata": {},
   "source": [
    "### 5. Zone 할당\n",
    "- 위에서 저장된 `output/{filename}_plt_filtered.csv`를 불러오기를 우선시도하고 진행합니다."
   ]
  },
  {
   "cell_type": "code",
   "execution_count": 10,
   "metadata": {},
   "outputs": [
    {
     "name": "stderr",
     "output_type": "stream",
     "text": [
      "/tmp/ipykernel_4568/2934636788.py:4: SettingWithCopyWarning: \n",
      "A value is trying to be set on a copy of a slice from a DataFrame\n",
      "\n",
      "See the caveats in the documentation: https://pandas.pydata.org/pandas-docs/stable/user_guide/indexing.html#returning-a-view-versus-a-copy\n",
      "  df_grouped.drop(['zone 할당'], axis=1, inplace=True)\n"
     ]
    }
   ],
   "source": [
    "file_name = path.split('/')[-1].split('.')[0] + '_plt_filtered.csv'\n",
    "pre_zone_df = pd.read_csv('output/' + file_name)\n",
    "df_grouped = pre_zone_df[pre_zone_df['zone 할당'] == '0']\n",
    "df_grouped.drop(['zone 할당'], axis=1, inplace=True)\n",
    "df_plt = pre_zone_df[pre_zone_df['zone 할당'] == \"PLT\"]"
   ]
  },
  {
   "cell_type": "code",
   "execution_count": 11,
   "metadata": {},
   "outputs": [
    {
     "name": "stdout",
     "output_type": "stream",
     "text": [
      "1's exisiting order: 370, exisiting pcs: 488\n",
      "upper_limit_order: 429.57500000000005, lower_limit_order: 353.42499999999995\n",
      "upper_limit_sku: 14, lower_limit_sku: 10\n",
      "selected_indices' sum:  363\n",
      "2's exisiting order: 377, exisiting pcs: 572\n",
      "upper_limit_order: 422.57500000000005, lower_limit_order: 346.42499999999995\n",
      "upper_limit_sku: 14, lower_limit_sku: 10\n",
      "selected_indices' sum:  363\n",
      "3's exisiting order: 374, exisiting pcs: 578\n",
      "upper_limit_order: 425.57500000000005, lower_limit_order: 349.42499999999995\n",
      "upper_limit_sku: 14, lower_limit_sku: 10\n",
      "selected_indices' sum:  365\n",
      "4's exisiting order: 380, exisiting pcs: 530\n",
      "upper_limit_order: 419.57500000000005, lower_limit_order: 343.42499999999995\n",
      "upper_limit_sku: 14, lower_limit_sku: 10\n",
      "selected_indices' sum:  351\n",
      "5's exisiting order: 380, exisiting pcs: 536\n",
      "upper_limit_order: 419.57500000000005, lower_limit_order: 343.42499999999995\n",
      "upper_limit_sku: 14, lower_limit_sku: 10\n",
      "selected_indices' sum:  371\n",
      "6's exisiting order: 389, exisiting pcs: 536\n",
      "upper_limit_order: 410.57500000000005, lower_limit_order: 334.42499999999995\n",
      "upper_limit_sku: 14, lower_limit_sku: 10\n",
      "selected_indices' sum:  391\n",
      "7's exisiting order: 399, exisiting pcs: 513\n",
      "upper_limit_order: 400.57500000000005, lower_limit_order: 324.42499999999995\n",
      "upper_limit_sku: 14, lower_limit_sku: 10\n",
      "selected_indices' sum:  390\n",
      "8's exisiting order: 449, exisiting pcs: 1041\n",
      "upper_limit_order: 350.57500000000005, lower_limit_order: 274.42499999999995\n",
      "upper_limit_sku: 14, lower_limit_sku: 10\n",
      "selected_indices' sum:  287\n",
      "9's exisiting order: 500, exisiting pcs: 766\n",
      "upper_limit_order: 299.57500000000005, lower_limit_order: 223.42499999999995\n",
      "upper_limit_sku: 14, lower_limit_sku: 10\n",
      "selected_indices' sum:  260\n",
      "10's exisiting order: 509, exisiting pcs: 643\n",
      "upper_limit_order: 290.57500000000005, lower_limit_order: 214.42499999999995\n",
      "upper_limit_sku: 14, lower_limit_sku: 10\n",
      "selected_indices' sum:  283\n",
      "1 13 8.49 9.63\n",
      "2 13 10.39 9.72\n",
      "3 14 9.22 9.7\n",
      "4 15 9.15 9.6\n",
      "5 14 10.2 9.86\n",
      "6 17 9.28 10.24\n",
      "7 16 10.19 10.36\n",
      "8 16 13.04 9.67\n",
      "9 17 10.13 9.98\n",
      "10 17 9.1 10.4\n"
     ]
    },
    {
     "name": "stderr",
     "output_type": "stream",
     "text": [
      "/home/skyriver/project/Hokusho_Capstone/final/로케이션 할당/location_assignment.py:303: SettingWithCopyWarning: \n",
      "A value is trying to be set on a copy of a slice from a DataFrame.\n",
      "Try using .loc[row_indexer,col_indexer] = value instead\n",
      "\n",
      "See the caveats in the documentation: https://pandas.pydata.org/pandas-docs/stable/user_guide/indexing.html#returning-a-view-versus-a-copy\n",
      "  df_grouped[\"zone 할당\"] = zone_list\n"
     ]
    }
   ],
   "source": [
    "df_grouped = zone_assignment(df_grouped, sku_col_name, zone_num, trial_row, error_percentage, total_psc, total_order, length)\n",
    "\n",
    "zone_df = pd.concat([df_plt, df_grouped], ignore_index=True)\n",
    "file_name = path.split('/')[-1].split('.')[0] + '_grouped_zone.csv'\n",
    "zone_df.to_csv('output/' + file_name, index=False)\n",
    "\n",
    "final_df = merge_zone(pre_df, zone_df, sku_col_name)\n",
    "final_df.drop(columns=[\"index\"], inplace=True)\n",
    "file_name = path.split('/')[-1].split('.')[0] + '_final.csv'\n",
    "final_df.to_csv('output/' + file_name, index=False)"
   ]
  },
  {
   "cell_type": "markdown",
   "metadata": {},
   "source": [
    "### 6. 엑셀로 추출\n",
    "- 최종적으로 엑셀로 추출하는 함수입니다."
   ]
  },
  {
   "cell_type": "code",
   "execution_count": 12,
   "metadata": {},
   "outputs": [
    {
     "name": "stdout",
     "output_type": "stream",
     "text": [
      "box_grouped.csv is successfully read.\n"
     ]
    }
   ],
   "source": [
    "file_name = path.split('/')[-1].split('.')[0] + '_box_grouped.csv'\n",
    "try:\n",
    "    f_box_grouped_df = pd.read_csv('output/' + file_name)\n",
    "    print(\"box_grouped.csv is successfully read.\")\n",
    "except:\n",
    "    f_box_grouped_df = None\n",
    "    print(\"box_grouped.csv is not found.\")\n"
   ]
  },
  {
   "cell_type": "code",
   "execution_count": 13,
   "metadata": {},
   "outputs": [
    {
     "name": "stdout",
     "output_type": "stream",
     "text": [
      "grouped_zone.csv is successfully read.\n"
     ]
    }
   ],
   "source": [
    "# try to read zone_grouped.csv\n",
    "file_name = path.split('/')[-1].split('.')[0] + '_grouped_zone.csv'\n",
    "try:\n",
    "    f_zone_grouped_df = pd.read_csv('output/' + file_name)\n",
    "    print(\"grouped_zone.csv is successfully read.\")\n",
    "except:\n",
    "    f_zone_grouped_df = None\n",
    "    print(\"grouped_zone.csv is not found.\")"
   ]
  },
  {
   "cell_type": "code",
   "execution_count": 14,
   "metadata": {},
   "outputs": [],
   "source": [
    "base_dir = 'output/'\n",
    "file_name = path.split('/')[-1].split('.')[0] + '_LA.xlsx'\n",
    "xlxs_dir = os.path.join(base_dir, file_name)\n",
    "\n",
    "with pd.ExcelWriter(xlxs_dir) as writer:\n",
    "    final_df.to_excel(writer, sheet_name = '요청자료')\n",
    "    if f_box_grouped_df is not None:\n",
    "        f_box_grouped_df.to_excel(writer, sheet_name = '오더의 박스수 정하기')\n",
    "    if f_zone_grouped_df is not None:\n",
    "        f_zone_grouped_df.to_excel(writer, sheet_name = '품목_배치zone할당')"
   ]
  }
 ],
 "metadata": {
  "kernelspec": {
   "display_name": "hokusho",
   "language": "python",
   "name": "hokusho"
  },
  "language_info": {
   "codemirror_mode": {
    "name": "ipython",
    "version": 3
   },
   "file_extension": ".py",
   "mimetype": "text/x-python",
   "name": "python",
   "nbconvert_exporter": "python",
   "pygments_lexer": "ipython3",
   "version": "3.12.2"
  }
 },
 "nbformat": 4,
 "nbformat_minor": 2
}
