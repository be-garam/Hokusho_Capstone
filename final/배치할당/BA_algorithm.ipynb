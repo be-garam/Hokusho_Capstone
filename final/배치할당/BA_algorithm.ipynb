{
 "cells": [
  {
   "cell_type": "markdown",
   "id": "20a61f51",
   "metadata": {},
   "source": [
    "# 배치할당  \n",
    "\n",
    "**Info**  \n",
    "\n",
    "슈트별 작업량(=품번*수량)이 동일하게 물품을 할당하는 알고리즘  \n",
    "- 모든 슈트가 해방되어야 다음 작업이 수행되도록 구현\n",
    "- 해방된 슈트는 먼저 다음 작업을 수행할 수 있도록 구현  \n",
    "-> 2안은 작업시간을 고려하지 못하고,(실제로 동일한 작업량일지라도 작업 시간이 다를 수 있음) 또한 물품이 어떻게 슈트에 할당되는지 알 수 없기 때문에(알고리즘은 주문번호 그룹화로 진행) 실질적으로 사용에 한계가 있음.  \n",
    "-> 1안은 작업량이 많은 순으로 슈트에 배분되기 때문에 앞선 작업이 더 많은 작업량이 할당됨. 즉, 슈트별 작업량은 균등하더라도 배치별 작업량은 균등하지 않음.  \n",
    "  \n",
    "**함수 설명:**  \n",
    "\n",
    "*1안: 모든 슈트가 해방되어야 다음 배치 수행*\n",
    "- release_and_process_orders(df, order, count, shut):\n",
    "    - df: 불러온 원본 데이터\n",
    "    - order: 주문번호\n",
    "    - count: 수량\n",
    "    - shut: 슈트 개수   \n",
    "    \n",
    "*2안: 슈트별 독립적으로 작업 할당*  \n",
    "- process_order_with_released_suit(ddf, order, count, shut):\n",
    "    - df: 불러온 원본 데이터\n",
    "    - order: 주문번호\n",
    "    - count: 수량\n",
    "    - shut: 슈트 개수"
   ]
  },
  {
   "cell_type": "code",
   "execution_count": 33,
   "id": "bb8b99bb",
   "metadata": {},
   "outputs": [],
   "source": [
    "# 변수 설정\n",
    "\n",
    "# 칼럼명 고정, 출하일이 없어서 출고일로 대신 지정함.(바꿔서 사용 바람.)\n",
    "order = '온라인 주문번호'\n",
    "count = '수량'\n",
    "sku = '품번'\n",
    "date = '출고일'\n",
    "# 슈트 개수\n",
    "shut = 60"
   ]
  },
  {
   "cell_type": "code",
   "execution_count": 34,
   "id": "b5e009b4",
   "metadata": {},
   "outputs": [],
   "source": [
    "# 필요한 라이브러리와 데이터 불러오기\n",
    "# 경로를 알맞게 입력해줘야 함.\n",
    "import pandas as pd\n",
    "import time\n",
    "df = pd.read_excel('data/BA_Sample_Samsung_0421_raw_data.xlsx',usecols= [order,count,sku,date])"
   ]
  },
  {
   "cell_type": "code",
   "execution_count": 35,
   "id": "7daea5ff",
   "metadata": {},
   "outputs": [
    {
     "data": {
      "text/html": [
       "<div>\n",
       "<style scoped>\n",
       "    .dataframe tbody tr th:only-of-type {\n",
       "        vertical-align: middle;\n",
       "    }\n",
       "\n",
       "    .dataframe tbody tr th {\n",
       "        vertical-align: top;\n",
       "    }\n",
       "\n",
       "    .dataframe thead th {\n",
       "        text-align: right;\n",
       "    }\n",
       "</style>\n",
       "<table border=\"1\" class=\"dataframe\">\n",
       "  <thead>\n",
       "    <tr style=\"text-align: right;\">\n",
       "      <th></th>\n",
       "      <th>출고일</th>\n",
       "      <th>품번</th>\n",
       "      <th>수량</th>\n",
       "      <th>온라인 주문번호</th>\n",
       "    </tr>\n",
       "  </thead>\n",
       "  <tbody>\n",
       "    <tr>\n",
       "      <th>0</th>\n",
       "      <td>2022-04-21</td>\n",
       "      <td>111721BPAA070</td>\n",
       "      <td>1</td>\n",
       "      <td>OD202204211595605</td>\n",
       "    </tr>\n",
       "    <tr>\n",
       "      <th>1</th>\n",
       "      <td>2022-04-21</td>\n",
       "      <td>111871LY6RM</td>\n",
       "      <td>1</td>\n",
       "      <td>OD202204211595605</td>\n",
       "    </tr>\n",
       "    <tr>\n",
       "      <th>2</th>\n",
       "      <td>2022-04-21</td>\n",
       "      <td>121771DYAAM</td>\n",
       "      <td>1</td>\n",
       "      <td>OD202204211595605</td>\n",
       "    </tr>\n",
       "    <tr>\n",
       "      <th>3</th>\n",
       "      <td>2022-04-21</td>\n",
       "      <td>321751AY1LM</td>\n",
       "      <td>1</td>\n",
       "      <td>OD202204211595605</td>\n",
       "    </tr>\n",
       "    <tr>\n",
       "      <th>4</th>\n",
       "      <td>2022-04-21</td>\n",
       "      <td>321751LY2PM</td>\n",
       "      <td>1</td>\n",
       "      <td>OD202204211595605</td>\n",
       "    </tr>\n",
       "    <tr>\n",
       "      <th>...</th>\n",
       "      <td>...</td>\n",
       "      <td>...</td>\n",
       "      <td>...</td>\n",
       "      <td>...</td>\n",
       "    </tr>\n",
       "    <tr>\n",
       "      <th>14534</th>\n",
       "      <td>2022-04-21</td>\n",
       "      <td>192196WY75F</td>\n",
       "      <td>1</td>\n",
       "      <td>OD202204201590292</td>\n",
       "    </tr>\n",
       "    <tr>\n",
       "      <th>14535</th>\n",
       "      <td>2022-04-21</td>\n",
       "      <td>321821LH8KM</td>\n",
       "      <td>5</td>\n",
       "      <td>OD202204201590292</td>\n",
       "    </tr>\n",
       "    <tr>\n",
       "      <th>14536</th>\n",
       "      <td>2022-04-21</td>\n",
       "      <td>351525JQ2E070</td>\n",
       "      <td>1</td>\n",
       "      <td>OD202204201590292</td>\n",
       "    </tr>\n",
       "    <tr>\n",
       "      <th>14537</th>\n",
       "      <td>2022-04-21</td>\n",
       "      <td>351565JQ2EM</td>\n",
       "      <td>1</td>\n",
       "      <td>OD202204201590292</td>\n",
       "    </tr>\n",
       "    <tr>\n",
       "      <th>14538</th>\n",
       "      <td>2022-04-21</td>\n",
       "      <td>421141EYA0XL</td>\n",
       "      <td>1</td>\n",
       "      <td>OD202204201590292</td>\n",
       "    </tr>\n",
       "  </tbody>\n",
       "</table>\n",
       "<p>14539 rows × 4 columns</p>\n",
       "</div>"
      ],
      "text/plain": [
       "             출고일             품번  수량           온라인 주문번호\n",
       "0     2022-04-21  111721BPAA070   1  OD202204211595605\n",
       "1     2022-04-21    111871LY6RM   1  OD202204211595605\n",
       "2     2022-04-21    121771DYAAM   1  OD202204211595605\n",
       "3     2022-04-21    321751AY1LM   1  OD202204211595605\n",
       "4     2022-04-21    321751LY2PM   1  OD202204211595605\n",
       "...          ...            ...  ..                ...\n",
       "14534 2022-04-21    192196WY75F   1  OD202204201590292\n",
       "14535 2022-04-21    321821LH8KM   5  OD202204201590292\n",
       "14536 2022-04-21  351525JQ2E070   1  OD202204201590292\n",
       "14537 2022-04-21    351565JQ2EM   1  OD202204201590292\n",
       "14538 2022-04-21   421141EYA0XL   1  OD202204201590292\n",
       "\n",
       "[14539 rows x 4 columns]"
      ]
     },
     "execution_count": 35,
     "metadata": {},
     "output_type": "execute_result"
    }
   ],
   "source": [
    "df"
   ]
  },
  {
   "cell_type": "markdown",
   "id": "e480fd51",
   "metadata": {},
   "source": [
    "#### 알고리즘1: 모든 슈트 해방 후 일괄로 주문 처리 방식\n",
    "\n",
    "\n",
    "1. 주문번호끼리 그룹화\n",
    "\n",
    "2. 작업량 = 품번의 개수 * 수량 -> 그룹(주문번호)마다 작업량 계산\n",
    "\n",
    "3. 작업량이 많은 순으로 정렬(내림차순)(=투입순서)\n",
    "\n",
    "4. 각 슈트에는 아래와 같이 할당됨(숫자가 작을수록 우선순위, 작업량 많은 항목)(ㄹ모양)  \n",
    "    <0> <1>          <58> <59>  \n",
    "0-   0   1    ....    58   59   ->   1번 배치 (0\\*60+i+1)   ->   y-0\\*60  \n",
    "1-  119 118   ....    61   60   ->   2번 배치 (2\\*60-i)     ->   2\\*60-1-y  \n",
    "2-  120 121   ....   178  179   ->   3번 배치 (2\\*60+i+1)   ->   y-2\\*60"
   ]
  },
  {
   "cell_type": "markdown",
   "id": "b5cfe91a",
   "metadata": {},
   "source": [
    "#### 생성결과\n",
    "\n",
    "1. 투입 순서 + 배치 순서 \n",
    "\n",
    "2. 배당되는 슈트"
   ]
  },
  {
   "cell_type": "code",
   "execution_count": 36,
   "id": "d5e7981d",
   "metadata": {},
   "outputs": [],
   "source": [
    "# 함수 정의 - 수정 불가\n",
    "def release_and_process_orders(df, order, count, shut,date):\n",
    "  start_time = time.time()\n",
    "  for d_value, group in df.groupby(date):\n",
    "    order_df = group.groupby(order)[count].sum().reset_index()\n",
    "    order_df = order_df.sort_values(by=count, ascending=False).reset_index(drop=True)\n",
    "    order_df['투입순서'] = order_df.index\n",
    "    order_df['배치'] = order_df.index // shut\n",
    "  \n",
    "    for i in range(len(order_df)):\n",
    "      if (order_df.loc[i, '배치'] % 2 == 1):\n",
    "          order_df.loc[i, '슈트'] = shut*(order_df.loc[i, '배치']+1)-i-1\n",
    "      else:\n",
    "          order_df.loc[i, '슈트'] = i- order_df.loc[i, '배치']*shut\n",
    "    order_df.to_csv(f'orders_{d_value}.csv', index=False)\n",
    "\n",
    "  end_time = time.time()\n",
    "  elapsed_time = end_time - start_time\n",
    "  print(f\"총 소요 시간: {elapsed_time:.2f}초\")\n",
    "  print(\"모든 주문 해방 후 일관되게 주문을 처리하는 방식으로 날짜별 파일에 저장되었습니다.\")"
   ]
  },
  {
   "cell_type": "code",
   "execution_count": 37,
   "id": "bebd2fd0",
   "metadata": {},
   "outputs": [
    {
     "name": "stdout",
     "output_type": "stream",
     "text": [
      "               온라인 주문번호  수량  투입순서  배치   슈트\n",
      "0     OD202204211605517  69     0   0  0.0\n",
      "1     OD202204211596980  45     1   0  1.0\n",
      "2     OD202204211596072  37     2   0  2.0\n",
      "3     OD202204211604990  34     3   0  3.0\n",
      "4     OD202204201592352  32     4   0  4.0\n",
      "...                 ...  ..   ...  ..  ...\n",
      "3111  OD202204211604937   1  3111  51  8.0\n",
      "3112  OD202204201591190   1  3112  51  7.0\n",
      "3113  OD202204211601155   1  3113  51  6.0\n",
      "3114  OD202204201590428   1  3114  51  5.0\n",
      "3115  OD202204201590512   1  3115  51  4.0\n",
      "\n",
      "[3116 rows x 5 columns]\n",
      "총 소요 시간: 0.13초\n",
      "모든 주문 해방 후 일관되게 주문을 처리하는 방식으로 날짜별 파일에 저장되었습니다.\n"
     ]
    }
   ],
   "source": [
    "# 함수 실행\n",
    "release_and_process_orders(df, order, count, shut,date)"
   ]
  },
  {
   "cell_type": "markdown",
   "id": "0c074620",
   "metadata": {},
   "source": [
    "#### 알고리즘2: 하나의 슈트가 해방될 경우 해당 슈트는 다음 주문 처리\n",
    "\n",
    "\n",
    "1. 주문번호끼리 그룹화\n",
    "\n",
    "2. 작업량 = 품번의 개수 * 수량 -> 그룹(주문번호)마다 작업량 계산\n",
    "\n",
    "3. 총작업량 계산 후 각 슈트당 작업량 할당\n",
    "\n",
    "4. 작업을 남아있는 작업량이 가장 많은 슈트에 할당, 남아있는 작업량 업데이트"
   ]
  },
  {
   "cell_type": "code",
   "execution_count": 38,
   "id": "ad296f92",
   "metadata": {},
   "outputs": [],
   "source": [
    "# 함수 정의 - 수정 불가\n",
    "def process_order_with_released_suit(df, order, count, shut,date):\n",
    "    start_time = time.time()\n",
    "    for d_value,group in  df.groupby(date):\n",
    "      order_df = df.groupby(order)[count].sum().reset_index()\n",
    "      current_workload = [order_df['수량'].sum()/shut]*shut\n",
    "      for i in range(len(order_df)):\n",
    "          index = current_workload.index(max(current_workload))\n",
    "          order_df.loc[i, '슈트'] = index\n",
    "          current_workload[index] -= order_df.loc[i, count]\n",
    "      order_df.to_csv(f'orders_{d_value}2.csv', index=False)\n",
    "    \n",
    "    end_time = time.time()\n",
    "    elapsed_time = end_time - start_time\n",
    "    print(f\"총 소요 시간: {elapsed_time:.2f}초\")\n",
    "    print(\"하나의 슈트가 해방될 경우 해당 슈트는 다음 주문 처리하는 방식으로 'orders2.csv' 파일에 저장되었습니다.\")"
   ]
  },
  {
   "cell_type": "code",
   "execution_count": 39,
   "id": "6b79db9c",
   "metadata": {},
   "outputs": [
    {
     "name": "stdout",
     "output_type": "stream",
     "text": [
      "               온라인 주문번호  수량    슈트\n",
      "0     OD202204091413193   3   0.0\n",
      "1     OD202204121453868   2   1.0\n",
      "2     OD202204131475710   3   2.0\n",
      "3     OD202204131476387   2   3.0\n",
      "4     OD202204131480783   2   4.0\n",
      "...                 ...  ..   ...\n",
      "3111  OD202204211607081  11   7.0\n",
      "3112  OD202204211607083   6   8.0\n",
      "3113  OD202204211607084   3   9.0\n",
      "3114  OD202204211607085   5  18.0\n",
      "3115  OD202204211607087   7  21.0\n",
      "\n",
      "[3116 rows x 3 columns]\n",
      "총 소요 시간: 0.14초\n",
      "하나의 슈트가 해방될 경우 해당 슈트는 다음 주문 처리하는 방식으로 'orders2.csv' 파일에 저장되었습니다.\n"
     ]
    }
   ],
   "source": [
    "# 함수 실행\n",
    "process_order_with_released_suit(df, order, count, shut,date)"
   ]
  },
  {
   "cell_type": "markdown",
   "id": "74c08ad3",
   "metadata": {},
   "source": []
  },
  {
   "cell_type": "markdown",
   "id": "95ddfff1",
   "metadata": {},
   "source": [
    "### 기존 방법과 비교  \n",
    "- 아래부터는 실행 필요 없음.  \n",
    "- 작업량 균등 분배가 개선됨을 확인하는 용도."
   ]
  },
  {
   "cell_type": "code",
   "execution_count": 11,
   "id": "1f20833e",
   "metadata": {},
   "outputs": [
    {
     "data": {
      "text/html": [
       "<div>\n",
       "<style scoped>\n",
       "    .dataframe tbody tr th:only-of-type {\n",
       "        vertical-align: middle;\n",
       "    }\n",
       "\n",
       "    .dataframe tbody tr th {\n",
       "        vertical-align: top;\n",
       "    }\n",
       "\n",
       "    .dataframe thead th {\n",
       "        text-align: right;\n",
       "    }\n",
       "</style>\n",
       "<table border=\"1\" class=\"dataframe\">\n",
       "  <thead>\n",
       "    <tr style=\"text-align: right;\">\n",
       "      <th></th>\n",
       "      <th>수량</th>\n",
       "      <th>온라인주문번호의 순서</th>\n",
       "      <th>60슈트씩</th>\n",
       "    </tr>\n",
       "  </thead>\n",
       "  <tbody>\n",
       "    <tr>\n",
       "      <th>0</th>\n",
       "      <td>1</td>\n",
       "      <td>1</td>\n",
       "      <td>1</td>\n",
       "    </tr>\n",
       "    <tr>\n",
       "      <th>1</th>\n",
       "      <td>1</td>\n",
       "      <td>1</td>\n",
       "      <td>1</td>\n",
       "    </tr>\n",
       "    <tr>\n",
       "      <th>2</th>\n",
       "      <td>1</td>\n",
       "      <td>1</td>\n",
       "      <td>1</td>\n",
       "    </tr>\n",
       "    <tr>\n",
       "      <th>3</th>\n",
       "      <td>1</td>\n",
       "      <td>1</td>\n",
       "      <td>1</td>\n",
       "    </tr>\n",
       "    <tr>\n",
       "      <th>4</th>\n",
       "      <td>1</td>\n",
       "      <td>1</td>\n",
       "      <td>1</td>\n",
       "    </tr>\n",
       "    <tr>\n",
       "      <th>...</th>\n",
       "      <td>...</td>\n",
       "      <td>...</td>\n",
       "      <td>...</td>\n",
       "    </tr>\n",
       "    <tr>\n",
       "      <th>14534</th>\n",
       "      <td>1</td>\n",
       "      <td>3116</td>\n",
       "      <td>52</td>\n",
       "    </tr>\n",
       "    <tr>\n",
       "      <th>14535</th>\n",
       "      <td>5</td>\n",
       "      <td>3116</td>\n",
       "      <td>52</td>\n",
       "    </tr>\n",
       "    <tr>\n",
       "      <th>14536</th>\n",
       "      <td>1</td>\n",
       "      <td>3116</td>\n",
       "      <td>52</td>\n",
       "    </tr>\n",
       "    <tr>\n",
       "      <th>14537</th>\n",
       "      <td>1</td>\n",
       "      <td>3116</td>\n",
       "      <td>52</td>\n",
       "    </tr>\n",
       "    <tr>\n",
       "      <th>14538</th>\n",
       "      <td>1</td>\n",
       "      <td>3116</td>\n",
       "      <td>52</td>\n",
       "    </tr>\n",
       "  </tbody>\n",
       "</table>\n",
       "<p>14539 rows × 3 columns</p>\n",
       "</div>"
      ],
      "text/plain": [
       "       수량  온라인주문번호의 순서  60슈트씩\n",
       "0       1            1      1\n",
       "1       1            1      1\n",
       "2       1            1      1\n",
       "3       1            1      1\n",
       "4       1            1      1\n",
       "...    ..          ...    ...\n",
       "14534   1         3116     52\n",
       "14535   5         3116     52\n",
       "14536   1         3116     52\n",
       "14537   1         3116     52\n",
       "14538   1         3116     52\n",
       "\n",
       "[14539 rows x 3 columns]"
      ]
     },
     "execution_count": 11,
     "metadata": {},
     "output_type": "execute_result"
    }
   ],
   "source": [
    "origin = pd.read_excel(\"data/BA_Sample_Samsung_0421_verificated_1.xlsx\",usecols=['온라인주문번호의 순서','60슈트씩','수량'],sheet_name=\"출하_4월21일자\")\n",
    "origin"
   ]
  },
  {
   "cell_type": "code",
   "execution_count": 12,
   "id": "294836a3",
   "metadata": {},
   "outputs": [
    {
     "data": {
      "text/html": [
       "<div>\n",
       "<style scoped>\n",
       "    .dataframe tbody tr th:only-of-type {\n",
       "        vertical-align: middle;\n",
       "    }\n",
       "\n",
       "    .dataframe tbody tr th {\n",
       "        vertical-align: top;\n",
       "    }\n",
       "\n",
       "    .dataframe thead th {\n",
       "        text-align: right;\n",
       "    }\n",
       "</style>\n",
       "<table border=\"1\" class=\"dataframe\">\n",
       "  <thead>\n",
       "    <tr style=\"text-align: right;\">\n",
       "      <th></th>\n",
       "      <th>온라인주문번호의 순서</th>\n",
       "      <th>수량</th>\n",
       "    </tr>\n",
       "  </thead>\n",
       "  <tbody>\n",
       "    <tr>\n",
       "      <th>0</th>\n",
       "      <td>1</td>\n",
       "      <td>10</td>\n",
       "    </tr>\n",
       "    <tr>\n",
       "      <th>1</th>\n",
       "      <td>2</td>\n",
       "      <td>10</td>\n",
       "    </tr>\n",
       "    <tr>\n",
       "      <th>2</th>\n",
       "      <td>3</td>\n",
       "      <td>5</td>\n",
       "    </tr>\n",
       "    <tr>\n",
       "      <th>3</th>\n",
       "      <td>4</td>\n",
       "      <td>2</td>\n",
       "    </tr>\n",
       "    <tr>\n",
       "      <th>4</th>\n",
       "      <td>5</td>\n",
       "      <td>4</td>\n",
       "    </tr>\n",
       "    <tr>\n",
       "      <th>...</th>\n",
       "      <td>...</td>\n",
       "      <td>...</td>\n",
       "    </tr>\n",
       "    <tr>\n",
       "      <th>3111</th>\n",
       "      <td>3112</td>\n",
       "      <td>4</td>\n",
       "    </tr>\n",
       "    <tr>\n",
       "      <th>3112</th>\n",
       "      <td>3113</td>\n",
       "      <td>4</td>\n",
       "    </tr>\n",
       "    <tr>\n",
       "      <th>3113</th>\n",
       "      <td>3114</td>\n",
       "      <td>2</td>\n",
       "    </tr>\n",
       "    <tr>\n",
       "      <th>3114</th>\n",
       "      <td>3115</td>\n",
       "      <td>2</td>\n",
       "    </tr>\n",
       "    <tr>\n",
       "      <th>3115</th>\n",
       "      <td>3116</td>\n",
       "      <td>9</td>\n",
       "    </tr>\n",
       "  </tbody>\n",
       "</table>\n",
       "<p>3116 rows × 2 columns</p>\n",
       "</div>"
      ],
      "text/plain": [
       "      온라인주문번호의 순서  수량\n",
       "0               1  10\n",
       "1               2  10\n",
       "2               3   5\n",
       "3               4   2\n",
       "4               5   4\n",
       "...           ...  ..\n",
       "3111         3112   4\n",
       "3112         3113   4\n",
       "3113         3114   2\n",
       "3114         3115   2\n",
       "3115         3116   9\n",
       "\n",
       "[3116 rows x 2 columns]"
      ]
     },
     "execution_count": 12,
     "metadata": {},
     "output_type": "execute_result"
    }
   ],
   "source": [
    "order_origin = origin.groupby('온라인주문번호의 순서')['수량'].sum().reset_index()\n",
    "order_origin"
   ]
  },
  {
   "cell_type": "code",
   "execution_count": 13,
   "id": "4e59c3ed",
   "metadata": {},
   "outputs": [
    {
     "name": "stdout",
     "output_type": "stream",
     "text": [
      "[257, 245, 242, 268, 232, 284, 258, 245, 242, 263, 198, 282, 272, 273, 241, 279, 275, 231, 268, 243, 233, 235, 259, 286, 268, 207, 223, 246, 237, 247, 228, 251, 263, 231, 277, 284, 250, 241, 249, 229, 301, 230, 219, 256, 245, 234, 204, 235, 239, 214, 254, 282, 291, 229, 237, 239, 232, 260, 250, 221]\n"
     ]
    }
   ],
   "source": [
    "workload_origin = []\n",
    "for s in range(shut):\n",
    "    workload_origin.append(order_origin[order_origin['온라인주문번호의 순서']%shut ==s]['수량'].sum())\n",
    "print(workload_origin)"
   ]
  },
  {
   "cell_type": "code",
   "execution_count": 14,
   "id": "e0491e03",
   "metadata": {},
   "outputs": [
    {
     "name": "stdout",
     "output_type": "stream",
     "text": [
      "49.44555555555555\n",
      "505.4455555555555\n"
     ]
    }
   ],
   "source": [
    "import numpy as np\n",
    "# 1번 방식\n",
    "print(np.var(workload))\n",
    "print(np.var(workload_origin))"
   ]
  },
  {
   "cell_type": "code",
   "execution_count": 28,
   "id": "140f1f73",
   "metadata": {},
   "outputs": [
    {
     "name": "stdout",
     "output_type": "stream",
     "text": [
      "45.07888888888888\n"
     ]
    }
   ],
   "source": [
    "# 2번 방식\n",
    "print(np.var(workload))"
   ]
  },
  {
   "cell_type": "code",
   "execution_count": 23,
   "id": "e8716acd",
   "metadata": {},
   "outputs": [
    {
     "data": {
      "image/png": "[encoded data removed]",
      "text/plain": [
       "<Figure size 600x400 with 1 Axes>"
      ]
     },
     "metadata": {},
     "output_type": "display_data"
    }
   ],
   "source": [
    "import matplotlib.pyplot as plt\n",
    "from collections import Counter\n",
    "from matplotlib import rc\n",
    "\n",
    "rc('font', family='AppleGothic')\n",
    "\n",
    "workload_counter = Counter(workload)\n",
    "workload_origin_counter = Counter(workload_origin)\n",
    "\n",
    "values_workload = list(workload_counter.elements())\n",
    "values_workload_origin = list(workload_origin_counter.elements())\n",
    "plt.figure(figsize=(6, 4))\n",
    "\n",
    "plt.hist(values_workload, bins=range(min(values_workload + values_workload_origin), max(values_workload + values_workload_origin) + 2), alpha=0.5, label='균등 할당')\n",
    "plt.hist(values_workload_origin, bins=range(min(values_workload + values_workload_origin), max(values_workload + values_workload_origin) + 2), alpha=0.5, label='랜덤 할당')\n",
    "\n",
    "plt.xlabel('슈트별 작업량')\n",
    "plt.ylabel('빈도')\n",
    "plt.title('기존 랜덤 할당 VS 균등 할당')\n",
    "plt.legend(loc='upper right')\n",
    "\n",
    "plt.show()"
   ]
  },
  {
   "cell_type": "markdown",
   "id": "255c05ba",
   "metadata": {},
   "source": []
  },
  {
   "cell_type": "code",
   "execution_count": null,
   "metadata": {},
   "outputs": [],
   "source": []
  }
 ],
 "metadata": {
  "kernelspec": {
   "display_name": "Python 3 (ipykernel)",
   "language": "python",
   "name": "python3"
  },
  "language_info": {
   "codemirror_mode": {
    "name": "ipython",
    "version": 3
   },
   "file_extension": ".py",
   "mimetype": "text/x-python",
   "name": "python",
   "nbconvert_exporter": "python",
   "pygments_lexer": "ipython3",
   "version": "3.11.5"
  }
 },
 "nbformat": 4,
 "nbformat_minor": 5
}
