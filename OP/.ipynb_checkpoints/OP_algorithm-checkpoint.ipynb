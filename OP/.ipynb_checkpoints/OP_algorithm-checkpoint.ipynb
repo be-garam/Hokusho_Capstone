{
 "cells": [
  {
   "cell_type": "markdown",
   "metadata": {},
   "source": [
    "### 전체 알고리즘\n",
    " 1. 패턴 부여(작년도와 동일한 rank_analysis 사용)\n",
    " 2. \n",
    "  \n",
    "### alguments\n",
    "- data: dataframe type\n",
    "- equip: dictionary type\n",
    "ex. {'OTP1':{'A':100,'B':40}, 'OTP2':{'A':100,'B':60}, 'SAS':{'C':100}}\n",
    "- order(주문번호): string type\n",
    "- sku(분석 SKU / 품목): string type\n",
    "- rank: string type"
   ]
  },
  {
   "cell_type": "code",
   "execution_count": null,
   "metadata": {},
   "outputs": [],
   "source": []
  }
 ],
 "metadata": {
  "kernelspec": {
   "display_name": "Python 3",
   "language": "python",
   "name": "python3"
  },
  "language_info": {
   "codemirror_mode": {
    "name": "ipython",
    "version": 3
   },
   "file_extension": ".py",
   "mimetype": "text/x-python",
   "name": "python",
   "nbconvert_exporter": "python",
   "pygments_lexer": "ipython3",
   "version": "3.11.5"
  },
  "orig_nbformat": 4
 },
 "nbformat": 4,
 "nbformat_minor": 2
}
