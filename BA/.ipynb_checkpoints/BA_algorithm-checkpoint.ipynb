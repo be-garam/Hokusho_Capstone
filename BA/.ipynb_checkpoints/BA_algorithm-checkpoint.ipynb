{
 "cells": [
  {
   "cell_type": "markdown",
   "metadata": {},
   "source": [
    "### 전체 알고리즘\n",
    " 1. \n",
    "  \n",
    "### alguments\n",
    "- data: dataframe type\n",
    "- shut(슈트개수): int type\n",
    "- count(수량): string type\n",
    "- order(주문번호): string type\n",
    "- sku(분석 SKU / 품목): string type"
   ]
  }
 ],
 "metadata": {
  "language_info": {
   "name": "python"
  },
  "orig_nbformat": 4
 },
 "nbformat": 4,
 "nbformat_minor": 2
}
